{
 "cells": [
  {
   "cell_type": "markdown",
   "metadata": {},
   "source": [
    "---\n",
    "# Crime Scene: NY\n",
    "---\n",
    "## 1 Introduction\n",
    "\n",
    "### 1.1 Background\n",
    "\n",
    "In ordinary language, a crime is an unlawful act punishable by a state or other authority. The term crime does not, in modern criminal law, have any simple and universally accepted definition. The most popular view is that crime is a category created by law; in other words, something is a crime if declared as such by the relevant and applicable law.\n",
    "The state has the power to restrict one's liberty for committing a crime. In modern societies, there are procedures to which investigations and trials must adhere. Law-enforcement authority which investigates the crimes is the police. The police are a constituted body of persons empowered by a state to enforce the law, to ensure the safety, health and possessions of citizens, and to prevent crime and civil disorder. Police accepts the complaints of crimes, these complaints will be a subject of this survey.\n",
    "The goal of this survey is to explore the crime statistics of NY City, to compare the neighborhoods by their safety.\n",
    "\n",
    "### 1.2 Problem\n",
    "Estimating the safety of the neighborhood may be valuable for real-estate agencies, business owners and of course for the tourists or people who looking for property in NY.\n",
    "\n",
    "## 2 Data Acquisition and Cleaning\n",
    "### 2.1 Data Sources\n",
    "The set of crime report headers is provided by the New York City Police Department, the Department of Information Technology and Telecommunications and the Mayor’s Office of Data Analytics.\n",
    "Main source of data is NYPD historic dataset. It includes all valid felony, misdemeanor, and violation crimes reported to the New York City Police Department (NYPD) from 2006 to the end of 2018. Today this dataset contains more than 6.8 millions of accidents.\n",
    "\n",
    "Other source of data will be Foursquare. It will provide the information about business activity in the neighboorhoods under survey.\n",
    "\n",
    "Dataset will be processed with _Python/pandas_ and presented on _Python/Folium_ maps."
   ]
  },
  {
   "cell_type": "code",
   "execution_count": null,
   "metadata": {},
   "outputs": [],
   "source": []
  }
 ],
 "metadata": {
  "kernelspec": {
   "display_name": "Python 3",
   "language": "python",
   "name": "python3"
  },
  "language_info": {
   "codemirror_mode": {
    "name": "ipython",
    "version": 3
   },
   "file_extension": ".py",
   "mimetype": "text/x-python",
   "name": "python",
   "nbconvert_exporter": "python",
   "pygments_lexer": "ipython3",
   "version": "3.8.2"
  }
 },
 "nbformat": 4,
 "nbformat_minor": 4
}
